{
  "nbformat": 4,
  "nbformat_minor": 0,
  "metadata": {
    "colab": {
      "name": "Log_Reg_performance_check.ipynb",
      "provenance": []
    },
    "kernelspec": {
      "name": "python3",
      "display_name": "Python 3"
    },
    "language_info": {
      "name": "python"
    }
  },
  "cells": [
    {
      "cell_type": "code",
      "metadata": {
        "id": "VrxORIDRN3eq"
      },
      "source": [
        "import numpy as np\n",
        "import matplotlib.pyplot as plt\n",
        "from Logistic_Reg_Module import LogR"
      ],
      "execution_count": 26,
      "outputs": []
    },
    {
      "cell_type": "code",
      "metadata": {
        "id": "0mnk5ynsOQ58"
      },
      "source": [
        "\n",
        "data=np.loadtxt(open('Logistic_Reg_Data.txt',\"rt\"),delimiter=\",\")\n",
        "np.random.shuffle(data)    #Randomnly shuffles the data"
      ],
      "execution_count": 27,
      "outputs": []
    },
    {
      "cell_type": "code",
      "metadata": {
        "id": "UzRgpfC_OXLF"
      },
      "source": [
        "#Creating instance of class\n",
        "train=LogR()"
      ],
      "execution_count": 28,
      "outputs": []
    },
    {
      "cell_type": "code",
      "metadata": {
        "id": "kmGM_f_DOY-H"
      },
      "source": [
        "#Dividing the dataset into X and Y and normalizing features\n",
        "X=data[:,:2]\n",
        "Y=data[:,-1:]\n",
        "X=train.normalize(X)"
      ],
      "execution_count": 29,
      "outputs": []
    },
    {
      "cell_type": "code",
      "metadata": {
        "id": "Zk3inQPuOarc"
      },
      "source": [
        "#dividing into training data and test data in the ratio 3:1\n",
        "test_len=X.shape[0]//4\n",
        "X_test=X[:test_len,:]\n",
        "X_train=X[test_len:,:]\n",
        "\n",
        "Y_test=Y[:test_len]\n",
        "Y_train=Y[test_len:]"
      ],
      "execution_count": 30,
      "outputs": []
    },
    {
      "cell_type": "code",
      "metadata": {
        "id": "Ii-VSBU3OcbC"
      },
      "source": [
        "\n",
        "#training data\n",
        "train.fit(X_train,Y_train)"
      ],
      "execution_count": 31,
      "outputs": []
    },
    {
      "cell_type": "code",
      "metadata": {
        "colab": {
          "base_uri": "https://localhost:8080/"
        },
        "id": "_aGESjCHOeDi",
        "outputId": "c02420af-af43-44c6-9637-9903eb8784a8"
      },
      "source": [
        "\n",
        "#Cost function\n",
        "J=train.cost_func()\n",
        "print(J)"
      ],
      "execution_count": 32,
      "outputs": [
        {
          "output_type": "stream",
          "text": [
            "[[16.01544891]]\n"
          ],
          "name": "stdout"
        }
      ]
    },
    {
      "cell_type": "code",
      "metadata": {
        "colab": {
          "base_uri": "https://localhost:8080/"
        },
        "id": "9E8p_zw5OgWv",
        "outputId": "87b32688-8911-4696-d6d4-3924b556c447"
      },
      "source": [
        "#Predicted value of y & Accuracy check\n",
        "Y_pred=train.predict(X)\n",
        "Accuracy=train.accuracy(Y_pred,Y)\n",
        "print(\"Accuracy of user-made library : \",Accuracy,\"%\")"
      ],
      "execution_count": 33,
      "outputs": [
        {
          "output_type": "stream",
          "text": [
            "Accuracy of user-made library :  89.0 %\n"
          ],
          "name": "stdout"
        }
      ]
    },
    {
      "cell_type": "code",
      "metadata": {
        "colab": {
          "base_uri": "https://localhost:8080/"
        },
        "id": "xCnK24YoOiZX",
        "outputId": "1225a961-a1bf-4709-85c6-5bdecd4eb692"
      },
      "source": [
        "#Accuracy of sklearn\n",
        "import warnings\n",
        "warnings.filterwarnings('ignore')\n",
        "from sklearn.linear_model import LogisticRegression\n",
        "logreg = LogisticRegression()\n",
        "logreg.fit(X_train,Y_train)\n",
        "Y_predz=logreg.predict(X)\n",
        "Y_predz=Y_predz.reshape(np.shape(Y))\n",
        "print(\"accuracy of sklearn model : \",np.mean((Y_predz==Y))*100,\"%\")"
      ],
      "execution_count": 34,
      "outputs": [
        {
          "output_type": "stream",
          "text": [
            "accuracy of sklearn model :  89.0 %\n"
          ],
          "name": "stdout"
        }
      ]
    },
    {
      "cell_type": "code",
      "metadata": {
        "colab": {
          "base_uri": "https://localhost:8080/",
          "height": 295
        },
        "id": "owh_pFPiOkk0",
        "outputId": "f1db5bbf-d798-40a7-ec3d-0d6e4eede642"
      },
      "source": [
        "\n",
        "#Plotting the decision boundary\n",
        "train.plott(X,Y)"
      ],
      "execution_count": 35,
      "outputs": [
        {
          "output_type": "display_data",
          "data": {
            "image/png": "[encoded data removed]",
            "text/plain": [
              "<Figure size 432x288 with 1 Axes>"
            ]
          },
          "metadata": {
            "tags": [],
            "needs_background": "light"
          }
        }
      ]
    },
    {
      "cell_type": "code",
      "metadata": {
        "id": "meCZ08y2OnV1"
      },
      "source": [
        ""
      ],
      "execution_count": 35,
      "outputs": []
    }
  ]
}