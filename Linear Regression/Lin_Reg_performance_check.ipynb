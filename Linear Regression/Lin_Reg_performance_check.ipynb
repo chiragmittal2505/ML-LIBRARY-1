{
  "nbformat": 4,
  "nbformat_minor": 0,
  "metadata": {
    "colab": {
      "name": "Lin_Reg_performance_check.ipynb",
      "provenance": [],
      "collapsed_sections": []
    },
    "kernelspec": {
      "name": "python3",
      "display_name": "Python 3"
    },
    "language_info": {
      "name": "python"
    }
  },
  "cells": [
    {
      "cell_type": "code",
      "metadata": {
        "id": "huiRdAyYzB2d"
      },
      "source": [
        "import numpy as np\n",
        "from LinRegModule import Lin_Reg as lrm\n",
        "from sklearn.linear_model import LinearRegression"
      ],
      "execution_count": 27,
      "outputs": []
    },
    {
      "cell_type": "code",
      "metadata": {
        "id": "OEGuHa3ZzOPb"
      },
      "source": [
        "#loading file\n",
        "data=np.loadtxt(open('LinRegData.txt',\"rt\"),delimiter=\",\")"
      ],
      "execution_count": 28,
      "outputs": []
    },
    {
      "cell_type": "code",
      "metadata": {
        "id": "EsD6dvf23wsr"
      },
      "source": [
        "\n",
        "#object of class LinR\n",
        "train=lrm()"
      ],
      "execution_count": 29,
      "outputs": []
    },
    {
      "cell_type": "code",
      "metadata": {
        "id": "ptkUcswv918G"
      },
      "source": [
        "X=data[:,:2]\n",
        "Y=data[:,-1:]\n",
        "X = train.normalize(X)"
      ],
      "execution_count": 30,
      "outputs": []
    },
    {
      "cell_type": "code",
      "metadata": {
        "id": "LBwGU-GF94Y8"
      },
      "source": [
        "#dividing into training data and test data in the ratio 2:1\n",
        "test_len=X.shape[0]//3\n",
        "X_test=X[:test_len,:]\n",
        "X_train=X[test_len:,:]\n",
        "\n",
        "Y_test=Y[:test_len]\n",
        "Y_train=Y[test_len:]"
      ],
      "execution_count": 31,
      "outputs": []
    },
    {
      "cell_type": "code",
      "metadata": {
        "id": "V7hvFffR96DB"
      },
      "source": [
        "#training object created \n",
        "train.fitt(X_train,Y_train)"
      ],
      "execution_count": 32,
      "outputs": []
    },
    {
      "cell_type": "code",
      "metadata": {
        "id": "fPK7FkTi97va",
        "colab": {
          "base_uri": "https://localhost:8080/"
        },
        "outputId": "43ceebb5-3417-42a6-ea8b-1ba1efbfd9bf"
      },
      "source": [
        "#Predicted values of Y for the test data & check accuracy\n",
        "Y_pred = train.predict(X_test)\n",
        "acc = train.accuracy(Y_test,Y_pred)\n",
        "print(\"Accuracy of prediction : \",acc,\"%\")"
      ],
      "execution_count": 33,
      "outputs": [
        {
          "output_type": "stream",
          "text": [
            "Accuracy of prediction :  95.09817868850234 %\n"
          ],
          "name": "stdout"
        }
      ]
    },
    {
      "cell_type": "code",
      "metadata": {
        "colab": {
          "base_uri": "https://localhost:8080/"
        },
        "id": "TTMRTbNBEXJq",
        "outputId": "3fa0b971-08fa-4c1b-f4c4-842b03feb545"
      },
      "source": [
        "#to check accuracy with sklearn\n",
        "reg_using_sklearn = LinearRegression()\n",
        "reg_using_sklearn.fit(X_train,Y_train)\n",
        "Y_pred=reg_using_sklearn.predict(X_test)\n",
        "Error=(Y_pred-Y_test)*100/Y_test\n",
        "Accuracy=100 - np.mean(Error)\n",
        "print(\"accuracy using sklearn = \",Accuracy,\"%\")"
      ],
      "execution_count": 34,
      "outputs": [
        {
          "output_type": "stream",
          "text": [
            "accuracy using sklearn =  93.90816216936064 %\n"
          ],
          "name": "stdout"
        }
      ]
    },
    {
      "cell_type": "code",
      "metadata": {
        "id": "9N_n9VJdEZ5k"
      },
      "source": [
        ""
      ],
      "execution_count": null,
      "outputs": []
    }
  ]
}